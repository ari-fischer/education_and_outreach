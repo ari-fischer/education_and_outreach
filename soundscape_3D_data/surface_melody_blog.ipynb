{
 "cells": [
  {
   "cell_type": "code",
   "execution_count": null,
   "id": "dc74d189",
   "metadata": {},
   "outputs": [],
   "source": [
    "import numpy as np\n",
    "from music21 import *\n",
    "import pandas as pd\n",
    "from matplotlib import pyplot as plt\n",
    "\n",
    "import sounddevice as sd\n",
    "from scipy.io.wavfile import write"
   ]
  },
  {
   "cell_type": "code",
   "execution_count": null,
   "id": "8e348869",
   "metadata": {},
   "outputs": [],
   "source": [
    "#generate dataset\n",
    "duration = 10\n",
    "#X sampling interval\n",
    "interval = 100\n",
    "\n",
    "#specify the X-range (time dimension) as a vector\n",
    "X_v = np.arange(0, duration, duration/interval)"
   ]
  },
  {
   "cell_type": "code",
   "execution_count": null,
   "id": "c2b6048b",
   "metadata": {},
   "outputs": [],
   "source": [
    "#generate the frequencies to sample.\n",
    "#specify range between musical notes C3 and C5\n",
    "f_low =  65.41 #C3\n",
    "f_high = 523.25 #C5\n",
    "\n",
    "#number of frequency samples\n",
    "freq_samp = 500\n",
    "\n",
    "#space frequencies on a log scale \n",
    "Y_v = np.logspace(np.log10(f_low),np.log10(f_high),num=freq_samp,endpoint=True, base=10.0)"
   ]
  },
  {
   "cell_type": "code",
   "execution_count": null,
   "id": "d9809a01",
   "metadata": {},
   "outputs": [],
   "source": [
    "#generate the amplitude data from 3D data or a 3D equation\n",
    "X, Y = np.meshgrid(X_v, Y_v)\n",
    "R = np.sqrt(X**2 + (Y/100)**2)\n",
    "#amplitude\n",
    "Z = np.sin(R)+1"
   ]
  },
  {
   "cell_type": "code",
   "execution_count": null,
   "id": "4084cbe7",
   "metadata": {},
   "outputs": [],
   "source": [
    "#Visualize the surface plot\n",
    "fig = plt.figure(figsize=(6,5))\n",
    "ax = fig.add_subplot(111, projection='3d')\n",
    "\n",
    "surf = ax.plot_surface(X, Y, Z, cmap='viridis')\n",
    "ax.set_xlabel(\"X\")\n",
    "ax.set_ylabel(\"Y\")\n",
    "ax.set_zlabel(\"Z\")\n",
    "ax.set_box_aspect(None, zoom=0.85)"
   ]
  },
  {
   "cell_type": "code",
   "execution_count": null,
   "id": "69dda76c",
   "metadata": {},
   "outputs": [],
   "source": [
    "#visualize the amplitude vs time for a slice at a single frequency\n",
    "X_slice = np.arange(0, 10, 10/100)\n",
    "Y_slice = 300\n",
    "R = np.sqrt(X_slice**2 + (Y_slice/100)**2)\n",
    "Z_slice = np.sin(R)+1\n",
    "\n",
    "fig = plt.figure(figsize=(6,4))\n",
    "ax = fig.add_subplot(111)\n",
    "\n",
    "# Plot the surface\n",
    "ax.plot(X_slice, Z_slice)\n",
    "ax.set_xlabel(\"time\")\n",
    "ax.set_ylabel(\"amplitude\")"
   ]
  },
  {
   "cell_type": "code",
   "execution_count": null,
   "id": "b9978519",
   "metadata": {},
   "outputs": [],
   "source": [
    "#Visualize the waveform generated from a sine wave for a signel frequency, combining the amplitudes with the sine-curve\n",
    "#time\n",
    "X_slice = np.arange(0, 10, 10/100000)\n",
    "#frequency\n",
    "Y_slice = 300\n",
    "#amplitude\n",
    "R = np.sqrt(X_slice**2 + (Y_slice/100)**2)\n",
    "Z_slice = (np.sin(R)+1)*(np.sin(2*np.pi*X_slice*Y_slice))\n",
    "\n",
    "fig = plt.figure(figsize=(3,4))\n",
    "ax = fig.add_subplot(111)\n",
    "#plot time-dependent wave for the specified frequency\n",
    "ax.plot(X_slice, Z_slice)\n",
    "ax.set_xlabel(\"time\")\n",
    "ax.set_ylabel(\"amplitude\")"
   ]
  },
  {
   "cell_type": "code",
   "execution_count": null,
   "id": "8d3df032",
   "metadata": {},
   "outputs": [],
   "source": [
    "# combine multiple single-frequency waveforms to generate the total wave\n",
    "\n",
    "# Sampling rate- samples per second\n",
    "fs = 44100\n",
    "\n",
    "# determine the total numer of samples from the duration of the composition and the sampling rate\n",
    "t = np.linspace(0, duration, int(fs * duration), False)\n",
    "\n",
    "#determine the number of samples in each interval in the original Z-dataset\n",
    "l_data = len(Z[0])\n",
    "t_step = int(np.floor(int(fs * duration)/l_data))\n",
    "\n",
    "\n",
    "#build a vector that lists the amplitudes at each time interval with the shorter sampling interval\n",
    "A_length = len(Z[0])*t_step\n",
    "\n",
    "#fill the sampling data in between the original Z-data points by interpolating the values\n",
    "#do this for the first row in the dataset by selecting Z[0]\n",
    "A_ind = np.linspace(0, len(Z[0]) - 1, A_length)\n",
    "A = np.interp(A_ind, np.arange(len(Z[0])), Z[0])\n",
    "zeros = np.zeros(len(t)-len(A))\n",
    "A_2 = np.append(A, zeros)\n",
    "\n",
    "#initialize the combined waveform (notes) with the sine wave equation for the initial frequency freqs[0]\n",
    "notes = A_2*np.sin(Y_v[0] * t * 2 * np.pi)\n",
    "\n",
    "#repeat above steps for each of the rows in the Z matrix representing each frequency played\n",
    "for i in range(len(Z)-1):\n",
    "    A_length = len(Z[i])*t_step\n",
    "    A_ind = np.linspace(0, len(Z[i]) - 1, A_length)\n",
    "    A = np.interp(A_ind, np.arange(len(Z[i])), Z[i])\n",
    "    A_2 = np.append(A, zeros)\n",
    "    note = A_2*np.sin(Y_v[i] * t * 2 * np.pi)\n",
    "    notes = notes + note\n",
    "             \n",
    "# scale to the maximum value for an int16 NumPy data type to export as a 16 bit PCM wavefile\n",
    "# (https://docs.scipy.org/doc/scipy/reference/generated/scipy.io.wavfile.write.html)\n",
    "notes *= 32767 / np.max(np.abs(notes))\n",
    "\n",
    "# Convert to 16-bit data\n",
    "notes = notes.astype(np.int16)\n"
   ]
  },
  {
   "cell_type": "code",
   "execution_count": null,
   "id": "68b82e2f",
   "metadata": {},
   "outputs": [],
   "source": [
    "#visualize the combined waveform\n",
    "fig, ax = plt.subplots(figsize=(4, 3))\n",
    "\n",
    "ax.plot(t,notes)\n",
    "plt.xlim([5,6])\n",
    "plt.ylim([-5000,5000])\n",
    "ax.set_xlabel(\"time\")\n",
    "ax.set_ylabel(\"amplitude\")"
   ]
  },
  {
   "cell_type": "code",
   "execution_count": null,
   "id": "26223034",
   "metadata": {},
   "outputs": [],
   "source": [
    "#play sound and export as wave file\n",
    "sd.play(notes, samplerate=fs)\n",
    "\n",
    "write('data_sounds_29_Dec.wav', fs, notes)"
   ]
  }
 ],
 "metadata": {
  "kernelspec": {
   "display_name": "Python 3 (ipykernel)",
   "language": "python",
   "name": "python3"
  },
  "language_info": {
   "codemirror_mode": {
    "name": "ipython",
    "version": 3
   },
   "file_extension": ".py",
   "mimetype": "text/x-python",
   "name": "python",
   "nbconvert_exporter": "python",
   "pygments_lexer": "ipython3",
   "version": "3.11.1"
  }
 },
 "nbformat": 4,
 "nbformat_minor": 5
}
